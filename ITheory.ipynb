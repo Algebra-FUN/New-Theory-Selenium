{
 "metadata": {
  "language_info": {
   "codemirror_mode": {
    "name": "ipython",
    "version": 3
   },
   "file_extension": ".py",
   "mimetype": "text/x-python",
   "name": "python",
   "nbconvert_exporter": "python",
   "pygments_lexer": "ipython3",
   "version": "3.6.8-final"
  },
  "orig_nbformat": 2,
  "kernelspec": {
   "name": "python36864bit3f53e4684f024fc68f038ddcedf7a612",
   "display_name": "Python 3.6.8 64-bit"
  }
 },
 "nbformat": 4,
 "nbformat_minor": 2,
 "cells": [
  {
   "source": [
    "# ITheory\n",
    "## Introduction\n",
    "**ITheory** 是理论答题自动作答程序的JupyterNotebook版本\n",
    "## Dependency\n",
    "* selenium\n",
    "\n",
    "    依赖于python selenium自动化测试库\n",
    "\n",
    "    ```pip install selenium```\n",
    "\n",
    "* webdriver\n",
    "\n",
    "    推荐使用Chrome,安装chromedriver\n",
    "\n",
    "> 也可以使用其他浏览器，相应安装对应的webdriver\n",
    "\n",
    "## Using\n",
    "按照下面的指令依此执行code cell即可"
   ],
   "cell_type": "markdown",
   "metadata": {}
  },
  {
   "source": [
    "### Step One\n",
    "准备答案excel文件"
   ],
   "cell_type": "markdown",
   "metadata": {}
  },
  {
   "cell_type": "code",
   "execution_count": 1,
   "metadata": {},
   "outputs": [],
   "source": [
    "# 填写对应的答案excel的文件路径\n",
    "excel_path = 'data/40.xlsx'"
   ]
  },
  {
   "source": [
    "### Step Two\n",
    "启动webdriver"
   ],
   "cell_type": "markdown",
   "metadata": {}
  },
  {
   "cell_type": "code",
   "execution_count": 5,
   "metadata": {},
   "outputs": [],
   "source": [
    "from selenium import webdriver\n",
    "from util import *\n",
    "\n",
    "driver = webdriver.Chrome() # 此处可以改用其他浏览器\n",
    "driver.get('https://theory.twt.edu.cn')\n",
    "\n",
    "ans_sheet = AnswerSheet(excel_path)\n",
    "\n",
    "ITheory = ITheory(ans_sheet, driver)\n",
    "\n",
    "## 设置作答间隔时间(可选)\n",
    "## ITheory.setTimer(lambda: randint(10,20))"
   ]
  },
  {
   "source": [
    "执行完上述代码，可以看到，浏览器自动启动，并停留再理论答题页面"
   ],
   "cell_type": "markdown",
   "metadata": {}
  },
  {
   "source": [
    "### Step Three\n",
    "人工执行登陆操作，并跳转到对应的考试界面\n",
    "完成相应人工操作后，执行下面的代码自动作答"
   ],
   "cell_type": "markdown",
   "metadata": {}
  },
  {
   "cell_type": "code",
   "execution_count": null,
   "metadata": {},
   "outputs": [],
   "source": [
    "ITheory.fill_questions('all')\n",
    "ITheory.fill_captcha()"
   ]
  },
  {
   "source": [
    "### Final Step\n",
    "当所有题目自动作答之后，人工提交考试即可"
   ],
   "cell_type": "markdown",
   "metadata": {}
  }
 ]
}